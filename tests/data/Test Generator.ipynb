{
 "cells": [
  {
   "cell_type": "code",
   "execution_count": 1,
   "metadata": {},
   "outputs": [],
   "source": [
    "import pathlib\n",
    "import numpy as np\n",
    "import pandas as pd\n",
    "from math import pi\n",
    "import matplotlib.pyplot as plt\n",
    "from wolframclient.evaluation import WolframLanguageSession\n",
    "from wolframclient.language import wl, wlexpr\n",
    "\n",
    "session = WolframLanguageSession()\n",
    "session.evaluate(wlexpr(\"PacletDirectoryLoad[\\\"~/Documents/Wolfram Mathematica/BHPToolkit/SpinWeightedSpheroidalHarmonics\\\"]\"))\n",
    "session.evaluate(wl.Needs('SpinWeightedSpheroidalHarmonics`'))"
   ]
  },
  {
   "cell_type": "code",
   "execution_count": 2,
   "metadata": {},
   "outputs": [],
   "source": [
    "# all integer and half-integer spins from -2 to 2\n",
    "spins = np.arange(-2,2.5,0.5)\n",
    "\n",
    "# theta values to test\n",
    "theta = np.linspace(0,pi,5)\n",
    "np.savetxt(\"theta.txt\",theta)\n",
    "\n",
    "# spheroidicity to test\n",
    "g = 1.5"
   ]
  },
  {
   "cell_type": "code",
   "execution_count": 16,
   "metadata": {},
   "outputs": [],
   "source": [
    "# make data folders\n",
    "for s in spins:\n",
    "    pathlib.Path(\"s\"+str(s)).mkdir()"
   ]
  },
  {
   "cell_type": "markdown",
   "metadata": {},
   "source": [
    "## Spin Weighted Spheroidal Eigenvalues"
   ]
  },
  {
   "cell_type": "code",
   "execution_count": null,
   "metadata": {},
   "outputs": [],
   "source": [
    "for s in spins:\n",
    "    # test 5 lowest ell values\n",
    "    ells = np.arange(abs(s),abs(s)+5,1)\n",
    "\n",
    "    n = int(2*max(ells)+1)\n",
    "    data = np.zeros((len(ells),n))\n",
    "    for i,ell in enumerate(ells):\n",
    "        # convert decimal to fraction\n",
    "        s_num, s_denom = s.as_integer_ratio()\n",
    "        ell_num, ell_denom = ell.as_integer_ratio()\n",
    "        \n",
    "        # generate all possible m values\n",
    "        m = np.arange(-ell,ell+1,1)\n",
    "\n",
    "        for j,m in enumerate(m):\n",
    "            # convert m to fraction\n",
    "            m_num, m_denom = m.as_integer_ratio()\n",
    "            # generate data\n",
    "            data[i,j] = session.evaluate(f\"SpinWeightedSpheroidalEigenvalue[{s_num}/{s_denom},{ell_num}/{ell_denom},{m_num}/{m_denom},{g}]//N\")\n",
    "    # save data\n",
    "    np.savetxt(\"s\"+str(s)+\"/eigenvalues.txt\",data)"
   ]
  },
  {
   "cell_type": "markdown",
   "metadata": {},
   "source": [
    "## Spin Weighted Spherical Harmonics"
   ]
  },
  {
   "cell_type": "code",
   "execution_count": 21,
   "metadata": {},
   "outputs": [],
   "source": [
    "def tuple_to_complex(t):\n",
    "    return t[0] + t[1]*1j\n",
    "\n",
    "for s in spins:\n",
    "    # test 5 lowest ell values\n",
    "    ells = np.arange(abs(s),abs(s)+5,1)\n",
    "    for ell in ells:\n",
    "        # convert decimal to fraction\n",
    "        s_num, s_denom = s.as_integer_ratio()\n",
    "        ell_num, ell_denom = ell.as_integer_ratio()\n",
    "        \n",
    "        # generate all possible m values\n",
    "        m = np.arange(-ell,ell+1,1)\n",
    "        data = np.zeros((len(theta),len(m)),dtype=np.cdouble)\n",
    "\n",
    "        for i,m in enumerate(m):\n",
    "            # convert m to fraction\n",
    "            m_num, m_denom = m.as_integer_ratio()\n",
    "            # generate data\n",
    "            data[:,i] = [tuple_to_complex(session.evaluate(f\"ReIm[SpinWeightedSphericalHarmonicY[{s_num}/{s_denom},{ell_num}/{ell_denom},{m_num}/{m_denom},{th},0]//N]\")) for th in theta]\n",
    "        # save data\n",
    "        np.savetxt(\"s\"+str(s)+\"/ell\"+str(ell)+\"_spherical.txt\",data)"
   ]
  },
  {
   "cell_type": "markdown",
   "metadata": {},
   "source": [
    "## Spin Weighted Spheroidal Harmonics"
   ]
  },
  {
   "cell_type": "code",
   "execution_count": 40,
   "metadata": {},
   "outputs": [],
   "source": [
    "for s in spins:\n",
    "    # test 5 lowest ell values\n",
    "    ells = np.arange(abs(s),abs(s)+5,1)\n",
    "    for ell in ells:\n",
    "        # convert decimal to fraction\n",
    "        s_num, s_denom = s.as_integer_ratio()\n",
    "        ell_num, ell_denom = ell.as_integer_ratio()\n",
    "        \n",
    "        # generate all possible m values\n",
    "        m = np.arange(-ell,ell+1,1)\n",
    "        data = np.zeros((len(theta),len(m)))\n",
    "\n",
    "        for i,m in enumerate(m):\n",
    "            # convert m to fraction\n",
    "            m_num, m_denom = m.as_integer_ratio()\n",
    "            # generate data\n",
    "            data[:,i] = [session.evaluate(f\"SpinWeightedSpheroidalHarmonicS[{s_num}/{s_denom},{ell_num}/{ell_denom},{m_num}/{m_denom},{g}][{th},0]//N\") for th in theta]\n",
    "        # save data\n",
    "        np.savetxt(\"s\"+str(s)+\"/ell\"+str(ell)+\".txt\",data)"
   ]
  },
  {
   "cell_type": "markdown",
   "metadata": {},
   "source": [
    "## Spin weighted Spherical Harmonic Derivative"
   ]
  },
  {
   "cell_type": "code",
   "execution_count": 12,
   "metadata": {},
   "outputs": [],
   "source": [
    "def tuple_to_complex(t):\n",
    "    return t[0] + t[1]*1j\n",
    "\n",
    "for s in spins:\n",
    "    # test 5 lowest ell values\n",
    "    ells = np.arange(abs(s),abs(s)+5,1)\n",
    "    for ell in ells:\n",
    "        # convert decimal to fraction\n",
    "        s_num, s_denom = s.as_integer_ratio()\n",
    "        ell_num, ell_denom = ell.as_integer_ratio()\n",
    "        \n",
    "        # generate all possible m values\n",
    "        m = np.arange(-ell,ell+1,1)\n",
    "        data = np.zeros((len(theta),len(m)),dtype=np.cdouble)\n",
    "\n",
    "        for i,m in enumerate(m):\n",
    "            # convert m to fraction\n",
    "            m_num, m_denom = m.as_integer_ratio()\n",
    "            session.evaluate(f\"f[theta_] := SpinWeightedSphericalHarmonicY[{s_num}/{s_denom},{ell_num}/{ell_denom},{m_num}/{m_denom}, theta, 0];\")\n",
    "            # generate data\n",
    "            data[:,i] = [tuple_to_complex(session.evaluate(f\"ReIm[f'[{th}]]//N\")) for th in theta]\n",
    "        # save data\n",
    "        np.savetxt(\"s\"+str(s)+\"/ell\"+str(ell)+\"_spherical_deriv.txt\",data)"
   ]
  },
  {
   "cell_type": "markdown",
   "metadata": {},
   "source": [
    "## Spin Weighted Spheroidal Harmonic Derivative"
   ]
  },
  {
   "cell_type": "code",
   "execution_count": 21,
   "metadata": {},
   "outputs": [],
   "source": [
    "def tuple_to_complex(t):\n",
    "    return t[0] + t[1]*1j\n",
    "\n",
    "for s in spins:\n",
    "    # test 5 lowest ell values\n",
    "    ells = np.arange(abs(s),abs(s)+5,1)\n",
    "    for ell in ells:\n",
    "        # convert decimal to fraction\n",
    "        s_num, s_denom = s.as_integer_ratio()\n",
    "        ell_num, ell_denom = ell.as_integer_ratio()\n",
    "        \n",
    "        # generate all possible m values\n",
    "        m = np.arange(-ell,ell+1,1)\n",
    "        data = np.zeros((len(theta),len(m)),dtype=np.cdouble)\n",
    "\n",
    "        for i,m in enumerate(m):\n",
    "            # convert m to fraction\n",
    "            m_num, m_denom = m.as_integer_ratio()\n",
    "            session.evaluate(f\"f[theta_] := Derivative[1,0][SpinWeightedSpheroidalHarmonicS[{s_num}/{s_denom},{ell_num}/{ell_denom},{m_num}/{m_denom},{g}],Method->\\\"SphericalExpansion\\\"][theta,0];\")\n",
    "            # generate data\n",
    "            data[:,i] = [tuple_to_complex(session.evaluate(f\"ReIm[f[{th}]]//N\")) for th in theta]\n",
    "        # save data\n",
    "        np.savetxt(\"s\"+str(s)+\"/ell\"+str(ell)+\"_deriv.txt\",data)"
   ]
  },
  {
   "cell_type": "markdown",
   "metadata": {},
   "source": [
    "## Spin Weighted Spheroidal Harmonic Second Derivative"
   ]
  },
  {
   "cell_type": "code",
   "execution_count": 22,
   "metadata": {},
   "outputs": [],
   "source": [
    "def tuple_to_complex(t):\n",
    "    return t[0] + t[1]*1j\n",
    "\n",
    "for s in spins:\n",
    "    # test 5 lowest ell values\n",
    "    ells = np.arange(abs(s),abs(s)+5,1)\n",
    "    for ell in ells:\n",
    "        # convert decimal to fraction\n",
    "        s_num, s_denom = s.as_integer_ratio()\n",
    "        ell_num, ell_denom = ell.as_integer_ratio()\n",
    "        \n",
    "        # generate all possible m values\n",
    "        m = np.arange(-ell,ell+1,1)\n",
    "        data = np.zeros((len(theta),len(m)),dtype=np.cdouble)\n",
    "\n",
    "        for i,m in enumerate(m):\n",
    "            # convert m to fraction\n",
    "            m_num, m_denom = m.as_integer_ratio()\n",
    "            session.evaluate(f\"f[theta_] := Derivative[2,0][SpinWeightedSpheroidalHarmonicS[{s_num}/{s_denom},{ell_num}/{ell_denom},{m_num}/{m_denom},{g}],Method->\\\"SphericalExpansion\\\"][theta,0];\")\n",
    "            # generate data\n",
    "            data[:,i] = [tuple_to_complex(session.evaluate(f\"ReIm[f[{th}]]//N\")) for th in theta]\n",
    "        # save data\n",
    "        np.savetxt(\"s\"+str(s)+\"/ell\"+str(ell)+\"_deriv2.txt\",data)"
   ]
  }
 ],
 "metadata": {
  "kernelspec": {
   "display_name": "base",
   "language": "python",
   "name": "python3"
  },
  "language_info": {
   "codemirror_mode": {
    "name": "ipython",
    "version": 3
   },
   "file_extension": ".py",
   "mimetype": "text/x-python",
   "name": "python",
   "nbconvert_exporter": "python",
   "pygments_lexer": "ipython3",
   "version": "3.10.12"
  },
  "orig_nbformat": 4
 },
 "nbformat": 4,
 "nbformat_minor": 2
}
