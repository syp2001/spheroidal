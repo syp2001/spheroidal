{
 "cells": [
  {
   "cell_type": "code",
   "execution_count": 17,
   "metadata": {},
   "outputs": [],
   "source": [
    "import pathlib\n",
    "import numpy as np\n",
    "import pandas as pd\n",
    "from math import pi\n",
    "import matplotlib.pyplot as plt\n",
    "from wolframclient.evaluation import WolframLanguageSession\n",
    "from wolframclient.language import wl, wlexpr\n",
    "\n",
    "session = WolframLanguageSession()\n",
    "session.evaluate(wlexpr(\"PacletDirectoryLoad[\\\"~/Documents/Wolfram Mathematica/BHPToolkit/SpinWeightedSpheroidalHarmonics\\\"]\"))\n",
    "session.evaluate(wl.Needs('SpinWeightedSpheroidalHarmonics`'))"
   ]
  },
  {
   "cell_type": "code",
   "execution_count": 28,
   "metadata": {},
   "outputs": [],
   "source": [
    "# all half-integer spins from -2 to 2\n",
    "spins = np.arange(-2,2.5,0.5)\n",
    "\n",
    "# theta values to test\n",
    "theta = np.linspace(0,pi,5)\n",
    "np.savetxt(\"theta.txt\",theta)\n",
    "\n",
    "# spheroidicity to test\n",
    "g = 1.5"
   ]
  },
  {
   "cell_type": "code",
   "execution_count": 16,
   "metadata": {},
   "outputs": [],
   "source": [
    "# make data folders\n",
    "for s in spins:\n",
    "    pathlib.Path(\"s\"+str(s)).mkdir()"
   ]
  },
  {
   "cell_type": "code",
   "execution_count": 40,
   "metadata": {},
   "outputs": [],
   "source": [
    "for s in spins:\n",
    "    # test 5 lowest ell values\n",
    "    ells = np.arange(abs(s),abs(s)+5,1)\n",
    "    for ell in ells:\n",
    "        # convert decimal to fraction\n",
    "        s_num, s_denom = s.as_integer_ratio()\n",
    "        ell_num, ell_denom = ell.as_integer_ratio()\n",
    "        # generate all possible m values\n",
    "        m = np.arange(-ell,ell+1,1)\n",
    "        data = np.zeros((len(theta),len(m)))\n",
    "        for i,m in enumerate(m):\n",
    "            # convert m to fraction\n",
    "            m_num, m_denom = m.as_integer_ratio()\n",
    "            # generate data\n",
    "            data[:,i] = [session.evaluate(f\"SpinWeightedSpheroidalHarmonicS[{s_num}/{s_denom},{ell_num}/{ell_denom},{m_num}/{m_denom},{g}][{th},0]//N\") for th in theta]\n",
    "        # save data\n",
    "        np.savetxt(\"s\"+str(s)+\"/ell\"+str(ell)+\".txt\",data)"
   ]
  }
 ],
 "metadata": {
  "kernelspec": {
   "display_name": "base",
   "language": "python",
   "name": "python3"
  },
  "language_info": {
   "codemirror_mode": {
    "name": "ipython",
    "version": 3
   },
   "file_extension": ".py",
   "mimetype": "text/x-python",
   "name": "python",
   "nbconvert_exporter": "python",
   "pygments_lexer": "ipython3",
   "version": "3.10.12"
  },
  "orig_nbformat": 4
 },
 "nbformat": 4,
 "nbformat_minor": 2
}
